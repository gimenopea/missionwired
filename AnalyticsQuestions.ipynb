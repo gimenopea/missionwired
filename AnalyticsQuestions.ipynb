{
 "cells": [
  {
   "cell_type": "code",
   "execution_count": 52,
   "metadata": {},
   "outputs": [],
   "source": [
    "import pandas as pd\n",
    "\n",
    "\n",
    "df = pd.DataFrame(columns=['Send date', 'Subject line', 'Sent Count', 'Number of opens', 'Number of clicks', 'Number of gifts', 'Total Raised'])\n",
    "\n",
    "#add data to the dataframe\n",
    "df.loc[0] = ['2015-04-30', 'Only You', 418328, 62676, 3486, 103, 3189]\n",
    "df.loc[1] = ['2015-04-26', 'before midnight', 417767, 66396, 2941, 224, 1478]\n",
    "df.loc[2] = ['2015-04-23', 'got a sec', 415714, 64347, 2289, 71, 1283]\n"
   ]
  },
  {
   "cell_type": "code",
   "execution_count": 53,
   "metadata": {},
   "outputs": [
    {
     "data": {
      "text/html": [
       "<div>\n",
       "<style scoped>\n",
       "    .dataframe tbody tr th:only-of-type {\n",
       "        vertical-align: middle;\n",
       "    }\n",
       "\n",
       "    .dataframe tbody tr th {\n",
       "        vertical-align: top;\n",
       "    }\n",
       "\n",
       "    .dataframe thead th {\n",
       "        text-align: right;\n",
       "    }\n",
       "</style>\n",
       "<table border=\"1\" class=\"dataframe\">\n",
       "  <thead>\n",
       "    <tr style=\"text-align: right;\">\n",
       "      <th></th>\n",
       "      <th>Send date</th>\n",
       "      <th>Subject line</th>\n",
       "      <th>Sent Count</th>\n",
       "      <th>Number of opens</th>\n",
       "      <th>Number of clicks</th>\n",
       "      <th>Number of gifts</th>\n",
       "      <th>Total Raised</th>\n",
       "    </tr>\n",
       "  </thead>\n",
       "  <tbody>\n",
       "    <tr>\n",
       "      <th>0</th>\n",
       "      <td>2015-04-30</td>\n",
       "      <td>Only You</td>\n",
       "      <td>418328</td>\n",
       "      <td>62676</td>\n",
       "      <td>3486</td>\n",
       "      <td>103</td>\n",
       "      <td>3189</td>\n",
       "    </tr>\n",
       "    <tr>\n",
       "      <th>1</th>\n",
       "      <td>2015-04-26</td>\n",
       "      <td>before midnight</td>\n",
       "      <td>417767</td>\n",
       "      <td>66396</td>\n",
       "      <td>2941</td>\n",
       "      <td>224</td>\n",
       "      <td>1478</td>\n",
       "    </tr>\n",
       "    <tr>\n",
       "      <th>2</th>\n",
       "      <td>2015-04-23</td>\n",
       "      <td>got a sec</td>\n",
       "      <td>415714</td>\n",
       "      <td>64347</td>\n",
       "      <td>2289</td>\n",
       "      <td>71</td>\n",
       "      <td>1283</td>\n",
       "    </tr>\n",
       "  </tbody>\n",
       "</table>\n",
       "</div>"
      ],
      "text/plain": [
       "    Send date     Subject line  Sent Count  Number of opens  Number of clicks  \\\n",
       "0  2015-04-30         Only You      418328            62676              3486   \n",
       "1  2015-04-26  before midnight      417767            66396              2941   \n",
       "2  2015-04-23        got a sec      415714            64347              2289   \n",
       "\n",
       "   Number of gifts  Total Raised  \n",
       "0              103          3189  \n",
       "1              224          1478  \n",
       "2               71          1283  "
      ]
     },
     "execution_count": 53,
     "metadata": {},
     "output_type": "execute_result"
    }
   ],
   "source": [
    "df"
   ]
  },
  {
   "cell_type": "code",
   "execution_count": 59,
   "metadata": {},
   "outputs": [],
   "source": [
    "#open rate\n",
    "df['open_rate'] = df['Number of opens']/df['Sent Count']\n",
    "#Clicks/sent\n",
    "df['clicks_sent'] = df['Number of clicks']/df['Sent Count']\n",
    "#licks/opens\n",
    "df['clicks_opens'] = df['Number of clicks']/df['Number of opens']\n",
    "# Gifts/sent\n",
    "df['gifts_sent'] = df['Number of gifts']/df['Sent Count']\n",
    "# Gifts/opens\n",
    "df['gifts_opens'] = df['Number of gifts']/df['Number of opens']\n",
    "#Gifts/clicks\n",
    "df['gifts_clicks'] = df['Number of gifts']/df['Number of clicks']\n",
    "# Average gift\n",
    "df['avg_gift'] = df['Total Raised']/df['Number of gifts']\n"
   ]
  },
  {
   "cell_type": "code",
   "execution_count": 60,
   "metadata": {},
   "outputs": [],
   "source": [
    "#add a new row called total and total entire column\n",
    "df.loc['Total'] = df.sum(numeric_only=True, axis=0)"
   ]
  },
  {
   "cell_type": "code",
   "execution_count": 63,
   "metadata": {},
   "outputs": [],
   "source": [
    "#change value to blank in total row for open_rate, clicks_sent, clicks_opens, gifts_sent, gifts_opens, gifts_clicks, avg_gift\n",
    "df.loc['Total', 'open_rate'] = ''\n",
    "df.loc['Total', 'clicks_sent'] = ''\n",
    "df.loc['Total', 'clicks_opens'] = ''\n",
    "df.loc['Total', 'gifts_sent'] = ''\n",
    "df.loc['Total', 'gifts_opens'] = ''\n",
    "df.loc['Total', 'gifts_clicks'] = ''\n",
    "df.loc['Total', 'avg_gift'] = ''\n"
   ]
  },
  {
   "attachments": {},
   "cell_type": "markdown",
   "metadata": {},
   "source": [
    "### Question 1. By what percentage did the gifts/clicks ratio improve from “only you” to “before midnight”? Please show your math. "
   ]
  },
  {
   "cell_type": "code",
   "execution_count": 65,
   "metadata": {},
   "outputs": [
    {
     "data": {
      "text/html": [
       "<div>\n",
       "<style scoped>\n",
       "    .dataframe tbody tr th:only-of-type {\n",
       "        vertical-align: middle;\n",
       "    }\n",
       "\n",
       "    .dataframe tbody tr th {\n",
       "        vertical-align: top;\n",
       "    }\n",
       "\n",
       "    .dataframe thead th {\n",
       "        text-align: right;\n",
       "    }\n",
       "</style>\n",
       "<table border=\"1\" class=\"dataframe\">\n",
       "  <thead>\n",
       "    <tr style=\"text-align: right;\">\n",
       "      <th></th>\n",
       "      <th>Send date</th>\n",
       "      <th>Subject line</th>\n",
       "      <th>Sent Count</th>\n",
       "      <th>Number of opens</th>\n",
       "      <th>Number of clicks</th>\n",
       "      <th>Number of gifts</th>\n",
       "      <th>Total Raised</th>\n",
       "      <th>open_rate</th>\n",
       "      <th>clicks_sent</th>\n",
       "      <th>clicks_opens</th>\n",
       "      <th>gifts_sent</th>\n",
       "      <th>gifts_opens</th>\n",
       "      <th>gifts_clicks</th>\n",
       "      <th>avg_gift</th>\n",
       "    </tr>\n",
       "  </thead>\n",
       "  <tbody>\n",
       "    <tr>\n",
       "      <th>0</th>\n",
       "      <td>2015-04-30</td>\n",
       "      <td>Only You</td>\n",
       "      <td>418328.0</td>\n",
       "      <td>62676.0</td>\n",
       "      <td>3486.0</td>\n",
       "      <td>103.0</td>\n",
       "      <td>3189.0</td>\n",
       "      <td>0.149825</td>\n",
       "      <td>0.008333</td>\n",
       "      <td>0.055619</td>\n",
       "      <td>0.000246</td>\n",
       "      <td>0.001643</td>\n",
       "      <td>0.029547</td>\n",
       "      <td>30.961165</td>\n",
       "    </tr>\n",
       "    <tr>\n",
       "      <th>1</th>\n",
       "      <td>2015-04-26</td>\n",
       "      <td>before midnight</td>\n",
       "      <td>417767.0</td>\n",
       "      <td>66396.0</td>\n",
       "      <td>2941.0</td>\n",
       "      <td>224.0</td>\n",
       "      <td>1478.0</td>\n",
       "      <td>0.158931</td>\n",
       "      <td>0.00704</td>\n",
       "      <td>0.044295</td>\n",
       "      <td>0.000536</td>\n",
       "      <td>0.003374</td>\n",
       "      <td>0.076165</td>\n",
       "      <td>6.598214</td>\n",
       "    </tr>\n",
       "    <tr>\n",
       "      <th>2</th>\n",
       "      <td>2015-04-23</td>\n",
       "      <td>got a sec</td>\n",
       "      <td>415714.0</td>\n",
       "      <td>64347.0</td>\n",
       "      <td>2289.0</td>\n",
       "      <td>71.0</td>\n",
       "      <td>1283.0</td>\n",
       "      <td>0.154787</td>\n",
       "      <td>0.005506</td>\n",
       "      <td>0.035573</td>\n",
       "      <td>0.000171</td>\n",
       "      <td>0.001103</td>\n",
       "      <td>0.031018</td>\n",
       "      <td>18.070423</td>\n",
       "    </tr>\n",
       "    <tr>\n",
       "      <th>Total</th>\n",
       "      <td>NaN</td>\n",
       "      <td>NaN</td>\n",
       "      <td>2503618.0</td>\n",
       "      <td>386838.0</td>\n",
       "      <td>17432.0</td>\n",
       "      <td>796.0</td>\n",
       "      <td>11900.0</td>\n",
       "      <td></td>\n",
       "      <td></td>\n",
       "      <td></td>\n",
       "      <td></td>\n",
       "      <td></td>\n",
       "      <td></td>\n",
       "      <td></td>\n",
       "    </tr>\n",
       "  </tbody>\n",
       "</table>\n",
       "</div>"
      ],
      "text/plain": [
       "        Send date     Subject line  Sent Count  Number of opens  \\\n",
       "0      2015-04-30         Only You    418328.0          62676.0   \n",
       "1      2015-04-26  before midnight    417767.0          66396.0   \n",
       "2      2015-04-23        got a sec    415714.0          64347.0   \n",
       "Total         NaN              NaN   2503618.0         386838.0   \n",
       "\n",
       "       Number of clicks  Number of gifts  Total Raised open_rate clicks_sent  \\\n",
       "0                3486.0            103.0        3189.0  0.149825    0.008333   \n",
       "1                2941.0            224.0        1478.0  0.158931     0.00704   \n",
       "2                2289.0             71.0        1283.0  0.154787    0.005506   \n",
       "Total           17432.0            796.0       11900.0                         \n",
       "\n",
       "      clicks_opens gifts_sent gifts_opens gifts_clicks   avg_gift  \n",
       "0         0.055619   0.000246    0.001643     0.029547  30.961165  \n",
       "1         0.044295   0.000536    0.003374     0.076165   6.598214  \n",
       "2         0.035573   0.000171    0.001103     0.031018  18.070423  \n",
       "Total                                                              "
      ]
     },
     "execution_count": 65,
     "metadata": {},
     "output_type": "execute_result"
    }
   ],
   "source": [
    "df"
   ]
  },
  {
   "cell_type": "code",
   "execution_count": 66,
   "metadata": {},
   "outputs": [
    {
     "name": "stdout",
     "output_type": "stream",
     "text": [
      "Percent improvement from before midnight to Only You: 157.78%\n"
     ]
    }
   ],
   "source": [
    "percent_improvement = (df.loc[1,'gifts_clicks'] - df.loc[0,'gifts_clicks']) / df.loc[0,'gifts_clicks'] * 100\n",
    "print('Percent improvement from before midnight to Only You: ' + str(round(percent_improvement,2)) + '%')"
   ]
  },
  {
   "attachments": {},
   "cell_type": "markdown",
   "metadata": {},
   "source": [
    "### Question 2. 2. In the email “before midnight,” if the gift/open ratio held steady, how many opens would be required to reach 300 gifts? Please show your math. "
   ]
  },
  {
   "cell_type": "code",
   "execution_count": 67,
   "metadata": {},
   "outputs": [
    {
     "data": {
      "text/html": [
       "<div>\n",
       "<style scoped>\n",
       "    .dataframe tbody tr th:only-of-type {\n",
       "        vertical-align: middle;\n",
       "    }\n",
       "\n",
       "    .dataframe tbody tr th {\n",
       "        vertical-align: top;\n",
       "    }\n",
       "\n",
       "    .dataframe thead th {\n",
       "        text-align: right;\n",
       "    }\n",
       "</style>\n",
       "<table border=\"1\" class=\"dataframe\">\n",
       "  <thead>\n",
       "    <tr style=\"text-align: right;\">\n",
       "      <th></th>\n",
       "      <th>Send date</th>\n",
       "      <th>Subject line</th>\n",
       "      <th>Sent Count</th>\n",
       "      <th>Number of opens</th>\n",
       "      <th>Number of clicks</th>\n",
       "      <th>Number of gifts</th>\n",
       "      <th>Total Raised</th>\n",
       "      <th>open_rate</th>\n",
       "      <th>clicks_sent</th>\n",
       "      <th>clicks_opens</th>\n",
       "      <th>gifts_sent</th>\n",
       "      <th>gifts_opens</th>\n",
       "      <th>gifts_clicks</th>\n",
       "      <th>avg_gift</th>\n",
       "    </tr>\n",
       "  </thead>\n",
       "  <tbody>\n",
       "    <tr>\n",
       "      <th>0</th>\n",
       "      <td>2015-04-30</td>\n",
       "      <td>Only You</td>\n",
       "      <td>418328.0</td>\n",
       "      <td>62676.0</td>\n",
       "      <td>3486.0</td>\n",
       "      <td>103.0</td>\n",
       "      <td>3189.0</td>\n",
       "      <td>0.149825</td>\n",
       "      <td>0.008333</td>\n",
       "      <td>0.055619</td>\n",
       "      <td>0.000246</td>\n",
       "      <td>0.001643</td>\n",
       "      <td>0.029547</td>\n",
       "      <td>30.961165</td>\n",
       "    </tr>\n",
       "    <tr>\n",
       "      <th>1</th>\n",
       "      <td>2015-04-26</td>\n",
       "      <td>before midnight</td>\n",
       "      <td>417767.0</td>\n",
       "      <td>66396.0</td>\n",
       "      <td>2941.0</td>\n",
       "      <td>224.0</td>\n",
       "      <td>1478.0</td>\n",
       "      <td>0.158931</td>\n",
       "      <td>0.00704</td>\n",
       "      <td>0.044295</td>\n",
       "      <td>0.000536</td>\n",
       "      <td>0.003374</td>\n",
       "      <td>0.076165</td>\n",
       "      <td>6.598214</td>\n",
       "    </tr>\n",
       "    <tr>\n",
       "      <th>2</th>\n",
       "      <td>2015-04-23</td>\n",
       "      <td>got a sec</td>\n",
       "      <td>415714.0</td>\n",
       "      <td>64347.0</td>\n",
       "      <td>2289.0</td>\n",
       "      <td>71.0</td>\n",
       "      <td>1283.0</td>\n",
       "      <td>0.154787</td>\n",
       "      <td>0.005506</td>\n",
       "      <td>0.035573</td>\n",
       "      <td>0.000171</td>\n",
       "      <td>0.001103</td>\n",
       "      <td>0.031018</td>\n",
       "      <td>18.070423</td>\n",
       "    </tr>\n",
       "    <tr>\n",
       "      <th>Total</th>\n",
       "      <td>NaN</td>\n",
       "      <td>NaN</td>\n",
       "      <td>2503618.0</td>\n",
       "      <td>386838.0</td>\n",
       "      <td>17432.0</td>\n",
       "      <td>796.0</td>\n",
       "      <td>11900.0</td>\n",
       "      <td></td>\n",
       "      <td></td>\n",
       "      <td></td>\n",
       "      <td></td>\n",
       "      <td></td>\n",
       "      <td></td>\n",
       "      <td></td>\n",
       "    </tr>\n",
       "  </tbody>\n",
       "</table>\n",
       "</div>"
      ],
      "text/plain": [
       "        Send date     Subject line  Sent Count  Number of opens  \\\n",
       "0      2015-04-30         Only You    418328.0          62676.0   \n",
       "1      2015-04-26  before midnight    417767.0          66396.0   \n",
       "2      2015-04-23        got a sec    415714.0          64347.0   \n",
       "Total         NaN              NaN   2503618.0         386838.0   \n",
       "\n",
       "       Number of clicks  Number of gifts  Total Raised open_rate clicks_sent  \\\n",
       "0                3486.0            103.0        3189.0  0.149825    0.008333   \n",
       "1                2941.0            224.0        1478.0  0.158931     0.00704   \n",
       "2                2289.0             71.0        1283.0  0.154787    0.005506   \n",
       "Total           17432.0            796.0       11900.0                         \n",
       "\n",
       "      clicks_opens gifts_sent gifts_opens gifts_clicks   avg_gift  \n",
       "0         0.055619   0.000246    0.001643     0.029547  30.961165  \n",
       "1         0.044295   0.000536    0.003374     0.076165   6.598214  \n",
       "2         0.035573   0.000171    0.001103     0.031018  18.070423  \n",
       "Total                                                              "
      ]
     },
     "execution_count": 67,
     "metadata": {},
     "output_type": "execute_result"
    }
   ],
   "source": [
    "df"
   ]
  },
  {
   "cell_type": "code",
   "execution_count": 68,
   "metadata": {},
   "outputs": [
    {
     "name": "stdout",
     "output_type": "stream",
     "text": [
      "Number of opens needed to get 300 gifts: 88923\n"
     ]
    }
   ],
   "source": [
    "#(gift/open)*(X opens) = 300 gifts\n",
    "#X opens = 300/(gift/open)\n",
    "opens = 300 / df.loc[1,'gifts_opens']\n",
    "#round up to nearest whole number\n",
    "opens = int(opens + 0.5)\n",
    "\n",
    "print('Number of opens needed to get 300 gifts: ' + str(opens))"
   ]
  },
  {
   "attachments": {},
   "cell_type": "markdown",
   "metadata": {},
   "source": [
    "### Question 3. Please rank the emails in order of best to worst performance and please explain why you selected that order. \n",
    "\n"
   ]
  },
  {
   "cell_type": "code",
   "execution_count": 69,
   "metadata": {},
   "outputs": [
    {
     "data": {
      "text/html": [
       "<div>\n",
       "<style scoped>\n",
       "    .dataframe tbody tr th:only-of-type {\n",
       "        vertical-align: middle;\n",
       "    }\n",
       "\n",
       "    .dataframe tbody tr th {\n",
       "        vertical-align: top;\n",
       "    }\n",
       "\n",
       "    .dataframe thead th {\n",
       "        text-align: right;\n",
       "    }\n",
       "</style>\n",
       "<table border=\"1\" class=\"dataframe\">\n",
       "  <thead>\n",
       "    <tr style=\"text-align: right;\">\n",
       "      <th></th>\n",
       "      <th>Send date</th>\n",
       "      <th>Subject line</th>\n",
       "      <th>Sent Count</th>\n",
       "      <th>Number of opens</th>\n",
       "      <th>Number of clicks</th>\n",
       "      <th>Number of gifts</th>\n",
       "      <th>Total Raised</th>\n",
       "      <th>open_rate</th>\n",
       "      <th>clicks_sent</th>\n",
       "      <th>clicks_opens</th>\n",
       "      <th>gifts_sent</th>\n",
       "      <th>gifts_opens</th>\n",
       "      <th>gifts_clicks</th>\n",
       "      <th>avg_gift</th>\n",
       "    </tr>\n",
       "  </thead>\n",
       "  <tbody>\n",
       "    <tr>\n",
       "      <th>0</th>\n",
       "      <td>2015-04-30</td>\n",
       "      <td>Only You</td>\n",
       "      <td>418328.0</td>\n",
       "      <td>62676.0</td>\n",
       "      <td>3486.0</td>\n",
       "      <td>103.0</td>\n",
       "      <td>3189.0</td>\n",
       "      <td>0.149825</td>\n",
       "      <td>0.008333</td>\n",
       "      <td>0.055619</td>\n",
       "      <td>0.000246</td>\n",
       "      <td>0.001643</td>\n",
       "      <td>0.029547</td>\n",
       "      <td>30.961165</td>\n",
       "    </tr>\n",
       "    <tr>\n",
       "      <th>1</th>\n",
       "      <td>2015-04-26</td>\n",
       "      <td>before midnight</td>\n",
       "      <td>417767.0</td>\n",
       "      <td>66396.0</td>\n",
       "      <td>2941.0</td>\n",
       "      <td>224.0</td>\n",
       "      <td>1478.0</td>\n",
       "      <td>0.158931</td>\n",
       "      <td>0.00704</td>\n",
       "      <td>0.044295</td>\n",
       "      <td>0.000536</td>\n",
       "      <td>0.003374</td>\n",
       "      <td>0.076165</td>\n",
       "      <td>6.598214</td>\n",
       "    </tr>\n",
       "    <tr>\n",
       "      <th>2</th>\n",
       "      <td>2015-04-23</td>\n",
       "      <td>got a sec</td>\n",
       "      <td>415714.0</td>\n",
       "      <td>64347.0</td>\n",
       "      <td>2289.0</td>\n",
       "      <td>71.0</td>\n",
       "      <td>1283.0</td>\n",
       "      <td>0.154787</td>\n",
       "      <td>0.005506</td>\n",
       "      <td>0.035573</td>\n",
       "      <td>0.000171</td>\n",
       "      <td>0.001103</td>\n",
       "      <td>0.031018</td>\n",
       "      <td>18.070423</td>\n",
       "    </tr>\n",
       "    <tr>\n",
       "      <th>Total</th>\n",
       "      <td>NaN</td>\n",
       "      <td>NaN</td>\n",
       "      <td>2503618.0</td>\n",
       "      <td>386838.0</td>\n",
       "      <td>17432.0</td>\n",
       "      <td>796.0</td>\n",
       "      <td>11900.0</td>\n",
       "      <td></td>\n",
       "      <td></td>\n",
       "      <td></td>\n",
       "      <td></td>\n",
       "      <td></td>\n",
       "      <td></td>\n",
       "      <td></td>\n",
       "    </tr>\n",
       "  </tbody>\n",
       "</table>\n",
       "</div>"
      ],
      "text/plain": [
       "        Send date     Subject line  Sent Count  Number of opens  \\\n",
       "0      2015-04-30         Only You    418328.0          62676.0   \n",
       "1      2015-04-26  before midnight    417767.0          66396.0   \n",
       "2      2015-04-23        got a sec    415714.0          64347.0   \n",
       "Total         NaN              NaN   2503618.0         386838.0   \n",
       "\n",
       "       Number of clicks  Number of gifts  Total Raised open_rate clicks_sent  \\\n",
       "0                3486.0            103.0        3189.0  0.149825    0.008333   \n",
       "1                2941.0            224.0        1478.0  0.158931     0.00704   \n",
       "2                2289.0             71.0        1283.0  0.154787    0.005506   \n",
       "Total           17432.0            796.0       11900.0                         \n",
       "\n",
       "      clicks_opens gifts_sent gifts_opens gifts_clicks   avg_gift  \n",
       "0         0.055619   0.000246    0.001643     0.029547  30.961165  \n",
       "1         0.044295   0.000536    0.003374     0.076165   6.598214  \n",
       "2         0.035573   0.000171    0.001103     0.031018  18.070423  \n",
       "Total                                                              "
      ]
     },
     "execution_count": 69,
     "metadata": {},
     "output_type": "execute_result"
    }
   ],
   "source": [
    "df"
   ]
  },
  {
   "attachments": {},
   "cell_type": "markdown",
   "metadata": {},
   "source": [
    "1. Only you\n",
    "2. got a sec\n",
    "3. before midnight\n",
    "\n",
    "Reasons:\n",
    "1. If the goal of is to ulimately raise the most money in the most cost savings way, the above ranking will suffice. Since this is an e-mail campaign, we can diminish cost for acquisition and measure it in terms of its end-goal which is raising Money. Only you wins on both total raised and average gift."
   ]
  },
  {
   "attachments": {
    "image.png": {
     "image/png": "[encoded data removed]"
    }
   },
   "cell_type": "markdown",
   "metadata": {},
   "source": [
    "### Question 4. Should the client be concerned about the drop in average gift from the “this is crazy” email to the “one more minute” message? Please explain your answer. \n",
    "\n",
    "![image.png](attachment:image.png)"
   ]
  },
  {
   "attachments": {},
   "cell_type": "markdown",
   "metadata": {},
   "source": [
    "- There may not necessary be a cause for concern since there's a lot of unknown context given the data provided. It could be that that both emails were sent to two different audiences. It could also be that the call to action or messaging are completely different where one message caters to high level donors with bigger asks vs one to small time donor with smaller asks. One would surely yield smaller averages but greater gift counts."
   ]
  },
  {
   "attachments": {},
   "cell_type": "markdown",
   "metadata": {},
   "source": [
    "### Question 5. How would you say the response rate for the “one more minute” message compares to the “can’t stop hitting refresh” message? Please explain your answer and show your math."
   ]
  },
  {
   "attachments": {
    "image.png": {
     "image/png": "[encoded data removed]"
    }
   },
   "cell_type": "markdown",
   "metadata": {},
   "source": [
    "![image.png](attachment:image.png)"
   ]
  },
  {
   "attachments": {},
   "cell_type": "markdown",
   "metadata": {},
   "source": [
    "- answer b. better because there is a difference of .04 between their response rates (with one-more minute being better). .12-.08 = .04"
   ]
  }
 ],
 "metadata": {
  "kernelspec": {
   "display_name": "SMHS_WH",
   "language": "python",
   "name": "python3"
  },
  "language_info": {
   "codemirror_mode": {
    "name": "ipython",
    "version": 3
   },
   "file_extension": ".py",
   "mimetype": "text/x-python",
   "name": "python",
   "nbconvert_exporter": "python",
   "pygments_lexer": "ipython3",
   "version": "3.10.0 | packaged by conda-forge | (default, Nov 10 2021, 13:20:59) [MSC v.1916 64 bit (AMD64)]"
  },
  "orig_nbformat": 4,
  "vscode": {
   "interpreter": {
    "hash": "548c434b22017ed83120037e69c5bbe81702091f05abd27c68dbd10b5a598561"
   }
  }
 },
 "nbformat": 4,
 "nbformat_minor": 2
}
