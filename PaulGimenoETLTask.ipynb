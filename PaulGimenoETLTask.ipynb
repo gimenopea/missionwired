{
  "nbformat": 4,
  "nbformat_minor": 0,
  "metadata": {
    "colab": {
      "provenance": [],
      "authorship_tag": "ABX9TyO/0SO1Baw8zEpQF3IM6dQO",
      "include_colab_link": true
    },
    "kernelspec": {
      "name": "python3",
      "display_name": "Python 3"
    },
    "language_info": {
      "name": "python"
    }
  },
  "cells": [
    {
      "cell_type": "markdown",
      "metadata": {
        "id": "view-in-github",
        "colab_type": "text"
      },
      "source": [
        "<a href=\"https://colab.research.google.com/github/gimenopea/missionwired/blob/main/PaulGimenoETLTask.ipynb\" target=\"_parent\"><img src=\"https://colab.research.google.com/assets/colab-badge.svg\" alt=\"Open In Colab\"/></a>"
      ]
    },
    {
      "cell_type": "markdown",
      "source": [
        "Submission by Paul Gimeno\n",
        "\n",
        "gimenopea@gmail.com\n",
        "\n",
        "---\n"
      ],
      "metadata": {
        "id": "u_KrtRKig5Mr"
      }
    },
    {
      "cell_type": "code",
      "execution_count": null,
      "metadata": {
        "id": "wOys0pXagxWD"
      },
      "outputs": [],
      "source": [
        "import pandas as pd\n",
        "\n",
        "#grab source files\n",
        "cons_src = 'https://als-hiring.s3.amazonaws.com/fake_data/2020-07-01_17%3A11%3A00/cons.csv'\n",
        "emails_src = 'https://als-hiring.s3.amazonaws.com/fake_data/2020-07-01_17%3A11%3A00/cons_email.csv'\n",
        "cons_sub_src = 'https://als-hiring.s3.amazonaws.com/fake_data/2020-07-01_17%3A11%3A00/cons_email_chapter_subscription.csv'"
      ]
    },
    {
      "cell_type": "markdown",
      "source": [
        "**1. Setting up helper functions for profiling and reading source files**\n",
        "\n",
        "This is designed in chunks to accomodate large blob source formats."
      ],
      "metadata": {
        "id": "Ktpf07OkhOQa"
      }
    },
    {
      "cell_type": "code",
      "source": [
        "def sample_src_df(src_url = None, chunksize=100):\n",
        "    ''' returns the first chunk of a csv file as a dataframe of chunksize = chunksize'''\n",
        "    if src_url is None:\n",
        "        src_url = cons_src  \n",
        "    reader = pd.read_csv(src_url, chunksize=chunksize)\n",
        "    cons_df = next(reader)\n",
        "    return cons_df"
      ],
      "metadata": {
        "id": "SbFVszfShhDy"
      },
      "execution_count": null,
      "outputs": []
    },
    {
      "cell_type": "code",
      "source": [
        "#this helper function can be modified to process each chunk for map/reduction tasks as needed\n",
        "def read_src_df(src_url = None, chunksize=100, columns=None):\n",
        "    ''' input: source url of csv file\n",
        "    chunksize: defaults to 100 records per chunk\n",
        "    columns: list of columns to be returned\n",
        "    returns a dataframe of chunksize = chunksize''' \n",
        "\n",
        "    reader = pd.read_csv(src_url, chunksize=chunksize)\n",
        "    #for each chunk, grab the columns cons_id and source and concat them into one dataframe\n",
        "    df = pd.concat([chunk[columns] for chunk in reader])\n",
        "    print(f'{len(df)} records read')\n",
        "    return df"
      ],
      "metadata": {
        "id": "XbavBC9yhmCp"
      },
      "execution_count": null,
      "outputs": []
    },
    {
      "cell_type": "code",
      "source": [
        "#profile initial rows\n",
        "sample_cons = sample_src_df(cons_src)\n",
        "sample_emails = sample_src_df(emails_src)\n",
        "sample_cons_sub = sample_src_df(cons_sub_src)"
      ],
      "metadata": {
        "id": "xAC0-uEih4si"
      },
      "execution_count": null,
      "outputs": []
    },
    {
      "cell_type": "markdown",
      "source": [
        "**2. Read and process cons.csv**"
      ],
      "metadata": {
        "id": "O8NQb69giIc8"
      }
    },
    {
      "cell_type": "code",
      "source": [
        "#profile initial rows\n",
        "sample_cons.info()"
      ],
      "metadata": {
        "colab": {
          "base_uri": "https://localhost:8080/"
        },
        "id": "b71HOGwmiDMZ",
        "outputId": "eb21c85c-f433-4c6f-d052-524024b25441"
      },
      "execution_count": null,
      "outputs": [
        {
          "output_type": "stream",
          "name": "stdout",
          "text": [
            "<class 'pandas.core.frame.DataFrame'>\n",
            "RangeIndex: 100 entries, 0 to 99\n",
            "Data columns (total 29 columns):\n",
            " #   Column                      Non-Null Count  Dtype  \n",
            "---  ------                      --------------  -----  \n",
            " 0   cons_id                     100 non-null    int64  \n",
            " 1   prefix                      47 non-null     object \n",
            " 2   firstname                   54 non-null     object \n",
            " 3   middlename                  76 non-null     object \n",
            " 4   lastname                    43 non-null     object \n",
            " 5   suffix                      53 non-null     object \n",
            " 6   salutation                  48 non-null     object \n",
            " 7   gender                      61 non-null     object \n",
            " 8   birth_dt                    42 non-null     object \n",
            " 9   title                       53 non-null     object \n",
            " 10  employer                    52 non-null     object \n",
            " 11  occupation                  46 non-null     object \n",
            " 12  income                      52 non-null     float64\n",
            " 13  source                      60 non-null     object \n",
            " 14  subsource                   53 non-null     object \n",
            " 15  userid                      100 non-null    int64  \n",
            " 16  password                    100 non-null    object \n",
            " 17  is_validated                100 non-null    int64  \n",
            " 18  is_banned                   100 non-null    int64  \n",
            " 19  change_password_next_login  100 non-null    int64  \n",
            " 20  consent_type_id             100 non-null    int64  \n",
            " 21  create_dt                   100 non-null    object \n",
            " 22  create_app                  100 non-null    int64  \n",
            " 23  create_user                 100 non-null    int64  \n",
            " 24  modified_dt                 100 non-null    object \n",
            " 25  modified_app                100 non-null    int64  \n",
            " 26  modified_user               100 non-null    int64  \n",
            " 27  status                      100 non-null    int64  \n",
            " 28  note                        5 non-null      object \n",
            "dtypes: float64(1), int64(11), object(17)\n",
            "memory usage: 22.8+ KB\n"
          ]
        }
      ]
    },
    {
      "cell_type": "code",
      "source": [
        "#read cons.csv and return relevant columns for processing  using helper function in step 1\n",
        "cons_df = read_src_df(cons_src, columns=['cons_id', 'source','create_dt','modified_dt'])"
      ],
      "metadata": {
        "colab": {
          "base_uri": "https://localhost:8080/"
        },
        "id": "gXAYSCB0iEyy",
        "outputId": "300634aa-4227-4bde-d641-444008709481"
      },
      "execution_count": null,
      "outputs": [
        {
          "output_type": "stream",
          "name": "stdout",
          "text": [
            "700000 records read\n"
          ]
        }
      ]
    },
    {
      "cell_type": "code",
      "source": [
        "#check if cons_id is unique\n",
        "print(cons_df['cons_id'].is_unique)\n",
        "\n",
        "#read unique values of source\n",
        "print(cons_df['source'].unique())\n",
        "\n",
        "#replace null values with 'unknown'\n",
        "cons_df['source'] = cons_df['source'].fillna('unknown')\n",
        "\n",
        "#convert create_dt and modified_dt to datetime for date grouping in later steps\n",
        "cons_df['create_dt'] = pd.to_datetime(cons_df['create_dt'], format='%a, %Y-%m-%d %H:%M:%S')\n",
        "cons_df['modified_dt'] = pd.to_datetime(cons_df['modified_dt'], format ='%a, %Y-%m-%d %H:%M:%S')\n",
        "\n",
        "#column renaming to match desired output \n",
        "cons_df.rename(columns={'modified_dt':'updated_dt'}, inplace=True)"
      ],
      "metadata": {
        "colab": {
          "base_uri": "https://localhost:8080/"
        },
        "id": "JAUiYmpDirHf",
        "outputId": "b170dd54-c1dd-45e0-bf78-5d7f0ad16db1"
      },
      "execution_count": null,
      "outputs": [
        {
          "output_type": "stream",
          "name": "stdout",
          "text": [
            "True\n",
            "['google' 'facebook' nan 'twitter' 'organic']\n"
          ]
        }
      ]
    },
    {
      "cell_type": "code",
      "source": [
        "#final cons pre-processed file\n",
        "cons_df.info()"
      ],
      "metadata": {
        "colab": {
          "base_uri": "https://localhost:8080/"
        },
        "id": "cb-llBa-jW7_",
        "outputId": "690d1a9f-3623-4922-d2cb-c70f91b4abe5"
      },
      "execution_count": null,
      "outputs": [
        {
          "output_type": "stream",
          "name": "stdout",
          "text": [
            "<class 'pandas.core.frame.DataFrame'>\n",
            "RangeIndex: 700000 entries, 0 to 699999\n",
            "Data columns (total 4 columns):\n",
            " #   Column      Non-Null Count   Dtype         \n",
            "---  ------      --------------   -----         \n",
            " 0   cons_id     700000 non-null  int64         \n",
            " 1   source      700000 non-null  object        \n",
            " 2   create_dt   700000 non-null  datetime64[ns]\n",
            " 3   updated_dt  700000 non-null  datetime64[ns]\n",
            "dtypes: datetime64[ns](2), int64(1), object(1)\n",
            "memory usage: 21.4+ MB\n"
          ]
        }
      ]
    },
    {
      "cell_type": "markdown",
      "source": [
        "**3. process emails file**"
      ],
      "metadata": {
        "id": "Hqq1-sayjeK3"
      }
    },
    {
      "cell_type": "code",
      "source": [
        "sample_emails.info()"
      ],
      "metadata": {
        "colab": {
          "base_uri": "https://localhost:8080/"
        },
        "id": "Ng3v4xQijXaf",
        "outputId": "2d0f4626-3c86-42e3-fa66-9b8bf4dcfccd"
      },
      "execution_count": null,
      "outputs": [
        {
          "output_type": "stream",
          "name": "stdout",
          "text": [
            "<class 'pandas.core.frame.DataFrame'>\n",
            "RangeIndex: 100 entries, 0 to 99\n",
            "Data columns (total 16 columns):\n",
            " #   Column                Non-Null Count  Dtype \n",
            "---  ------                --------------  ----- \n",
            " 0   cons_email_id         100 non-null    int64 \n",
            " 1   cons_id               100 non-null    int64 \n",
            " 2   cons_email_type_id    100 non-null    int64 \n",
            " 3   is_primary            100 non-null    int64 \n",
            " 4   email                 100 non-null    object\n",
            " 5   canonical_local_part  58 non-null     object\n",
            " 6   domain                100 non-null    object\n",
            " 7   double_validation     55 non-null     object\n",
            " 8   create_dt             100 non-null    object\n",
            " 9   create_app            100 non-null    int64 \n",
            " 10  create_user           100 non-null    int64 \n",
            " 11  modified_dt           100 non-null    object\n",
            " 12  modified_app          100 non-null    int64 \n",
            " 13  modified_user         100 non-null    int64 \n",
            " 14  status                100 non-null    int64 \n",
            " 15  note                  6 non-null      object\n",
            "dtypes: int64(9), object(7)\n",
            "memory usage: 12.6+ KB\n"
          ]
        }
      ]
    },
    {
      "cell_type": "code",
      "source": [
        "emails_df = read_src_df(emails_src, columns=['cons_email_id', 'cons_id', 'email','is_primary'])"
      ],
      "metadata": {
        "colab": {
          "base_uri": "https://localhost:8080/"
        },
        "id": "aIKVamLMjkq3",
        "outputId": "08c9580c-305d-47aa-96a0-4eef5e31c677"
      },
      "execution_count": null,
      "outputs": [
        {
          "output_type": "stream",
          "name": "stdout",
          "text": [
            "1400000 records read\n"
          ]
        }
      ]
    },
    {
      "cell_type": "code",
      "source": [
        "emails_df.info()"
      ],
      "metadata": {
        "colab": {
          "base_uri": "https://localhost:8080/"
        },
        "id": "qK9Y5txKjyp2",
        "outputId": "38b16f68-1d94-4f58-9609-d699bd2eca1b"
      },
      "execution_count": null,
      "outputs": [
        {
          "output_type": "stream",
          "name": "stdout",
          "text": [
            "<class 'pandas.core.frame.DataFrame'>\n",
            "RangeIndex: 1400000 entries, 0 to 1399999\n",
            "Data columns (total 4 columns):\n",
            " #   Column         Non-Null Count    Dtype \n",
            "---  ------         --------------    ----- \n",
            " 0   cons_email_id  1400000 non-null  int64 \n",
            " 1   cons_id        1400000 non-null  int64 \n",
            " 2   email          1400000 non-null  object\n",
            " 3   is_primary     1400000 non-null  int64 \n",
            "dtypes: int64(3), object(1)\n",
            "memory usage: 42.7+ MB\n"
          ]
        }
      ]
    },
    {
      "cell_type": "markdown",
      "source": [
        "**4. Inner join cons and email on cons_id**"
      ],
      "metadata": {
        "id": "ZZUSwwFCjrHO"
      }
    },
    {
      "cell_type": "code",
      "source": [
        "#inner join person_df and emails_df on cons_id\n",
        "person_email_df = pd.merge(cons_df, emails_df, on='cons_id', how='inner')\n",
        "person_email_df.info()"
      ],
      "metadata": {
        "colab": {
          "base_uri": "https://localhost:8080/"
        },
        "id": "3Swms_kmj0je",
        "outputId": "e9fb66a0-3dac-4f6f-b6ad-d0fead36d8bf"
      },
      "execution_count": null,
      "outputs": [
        {
          "output_type": "stream",
          "name": "stdout",
          "text": [
            "<class 'pandas.core.frame.DataFrame'>\n",
            "Int64Index: 1400000 entries, 0 to 1399999\n",
            "Data columns (total 7 columns):\n",
            " #   Column         Non-Null Count    Dtype         \n",
            "---  ------         --------------    -----         \n",
            " 0   cons_id        1400000 non-null  int64         \n",
            " 1   source         1400000 non-null  object        \n",
            " 2   create_dt      1400000 non-null  datetime64[ns]\n",
            " 3   updated_dt     1400000 non-null  datetime64[ns]\n",
            " 4   cons_email_id  1400000 non-null  int64         \n",
            " 5   email          1400000 non-null  object        \n",
            " 6   is_primary     1400000 non-null  int64         \n",
            "dtypes: datetime64[ns](2), int64(3), object(2)\n",
            "memory usage: 85.4+ MB\n"
          ]
        }
      ]
    },
    {
      "cell_type": "markdown",
      "source": [
        "**5. process subscription file**"
      ],
      "metadata": {
        "id": "AvYriHX0j9BW"
      }
    },
    {
      "cell_type": "code",
      "source": [
        "sample_cons_sub.info()"
      ],
      "metadata": {
        "colab": {
          "base_uri": "https://localhost:8080/"
        },
        "id": "oammV_Aij3f6",
        "outputId": "b6e72630-4364-4682-8226-eb98a1c4e00f"
      },
      "execution_count": null,
      "outputs": [
        {
          "output_type": "stream",
          "name": "stdout",
          "text": [
            "<class 'pandas.core.frame.DataFrame'>\n",
            "RangeIndex: 100 entries, 0 to 99\n",
            "Data columns (total 6 columns):\n",
            " #   Column                              Non-Null Count  Dtype \n",
            "---  ------                              --------------  ----- \n",
            " 0   cons_email_chapter_subscription_id  100 non-null    int64 \n",
            " 1   cons_email_id                       100 non-null    int64 \n",
            " 2   chapter_id                          100 non-null    int64 \n",
            " 3   isunsub                             100 non-null    int64 \n",
            " 4   unsub_dt                            100 non-null    object\n",
            " 5   modified_dt                         100 non-null    object\n",
            "dtypes: int64(4), object(2)\n",
            "memory usage: 4.8+ KB\n"
          ]
        }
      ]
    },
    {
      "cell_type": "code",
      "source": [
        "cons_sub_df = read_src_df(cons_sub_src, columns=['cons_email_id', 'chapter_id','isunsub','unsub_dt'])\n",
        "cons_sub_df.info()"
      ],
      "metadata": {
        "colab": {
          "base_uri": "https://localhost:8080/"
        },
        "id": "9tpPSs_dkHMX",
        "outputId": "5846476e-a70e-44fb-de72-ec3baed66baa"
      },
      "execution_count": null,
      "outputs": [
        {
          "output_type": "stream",
          "name": "stdout",
          "text": [
            "350000 records read\n",
            "<class 'pandas.core.frame.DataFrame'>\n",
            "RangeIndex: 350000 entries, 0 to 349999\n",
            "Data columns (total 4 columns):\n",
            " #   Column         Non-Null Count   Dtype \n",
            "---  ------         --------------   ----- \n",
            " 0   cons_email_id  350000 non-null  int64 \n",
            " 1   chapter_id     350000 non-null  int64 \n",
            " 2   isunsub        350000 non-null  int64 \n",
            " 3   unsub_dt       350000 non-null  object\n",
            "dtypes: int64(3), object(1)\n",
            "memory usage: 10.7+ MB\n"
          ]
        }
      ]
    },
    {
      "cell_type": "markdown",
      "source": [
        "**6. Create final merge output of people, email and subscription**"
      ],
      "metadata": {
        "id": "bsSC_GGpkJbl"
      }
    },
    {
      "cell_type": "code",
      "source": [
        "people_raw_df = pd.merge(person_email_df, cons_sub_df, on='cons_email_id', how='inner')\n",
        "people_raw_df.info()"
      ],
      "metadata": {
        "colab": {
          "base_uri": "https://localhost:8080/"
        },
        "id": "0PSOcjgUkOk1",
        "outputId": "382856e6-071d-445b-9f16-848060e4cb38"
      },
      "execution_count": null,
      "outputs": [
        {
          "output_type": "stream",
          "name": "stdout",
          "text": [
            "<class 'pandas.core.frame.DataFrame'>\n",
            "Int64Index: 350000 entries, 0 to 349999\n",
            "Data columns (total 10 columns):\n",
            " #   Column         Non-Null Count   Dtype         \n",
            "---  ------         --------------   -----         \n",
            " 0   cons_id        350000 non-null  int64         \n",
            " 1   source         350000 non-null  object        \n",
            " 2   create_dt      350000 non-null  datetime64[ns]\n",
            " 3   updated_dt     350000 non-null  datetime64[ns]\n",
            " 4   cons_email_id  350000 non-null  int64         \n",
            " 5   email          350000 non-null  object        \n",
            " 6   is_primary     350000 non-null  int64         \n",
            " 7   chapter_id     350000 non-null  int64         \n",
            " 8   isunsub        350000 non-null  int64         \n",
            " 9   unsub_dt       350000 non-null  object        \n",
            "dtypes: datetime64[ns](2), int64(5), object(3)\n",
            "memory usage: 29.4+ MB\n"
          ]
        }
      ]
    },
    {
      "cell_type": "code",
      "source": [
        "#only return chapter_id = 1\n",
        "people_df = people_raw_df[people_raw_df['chapter_id'] == 1].copy()"
      ],
      "metadata": {
        "id": "Wz1DflbnkXO1"
      },
      "execution_count": null,
      "outputs": []
    },
    {
      "cell_type": "code",
      "source": [
        "#adding a boolean column that does a group by on cons_id and returns a 1 if both isunsub and is_primary flag is 1. This retains the row granularity.\n",
        "people_df['is_unsub'] = people_df.groupby('cons_id')['isunsub'].transform('max') & people_df.groupby('cons_id')['is_primary'].transform('max')"
      ],
      "metadata": {
        "id": "uouayQMBkajl"
      },
      "execution_count": null,
      "outputs": []
    },
    {
      "cell_type": "code",
      "source": [
        "people_df = people_df[['email', 'source', 'is_unsub','create_dt', 'updated_dt']]\n",
        "\n",
        "#export to csv file\n",
        "people_df.to_csv('people.csv',index=False)"
      ],
      "metadata": {
        "id": "GUUaKDlgkzVW"
      },
      "execution_count": null,
      "outputs": []
    },
    {
      "cell_type": "markdown",
      "source": [
        "**7. Create an acquisition fact file based on people.csv**\n",
        "\n",
        "assumption: the index here is now email and we lose cons_id as the basis for calculating acquisition"
      ],
      "metadata": {
        "id": "r4Q6_C9QlBdM"
      }
    },
    {
      "cell_type": "code",
      "source": [
        "#create a new dataframe called acquisition df. Since we already converted the columns to datetime, we can utilize the grouper pandas function to roll-up to counts by Day\n",
        "acquisition_df = people_df.groupby(pd.Grouper(key='create_dt', freq='D'))['email'].agg(['count']).rename(columns={'count':'acquisitions'}).reset_index()"
      ],
      "metadata": {
        "id": "ptwfZIhfk_EN"
      },
      "execution_count": null,
      "outputs": []
    },
    {
      "cell_type": "code",
      "source": [
        "#rename create_dt to acquisition_date\n",
        "acquisition_df.rename(columns={'create_dt':'acquisition_date'}, inplace=True)\n",
        "acquisition_df"
      ],
      "metadata": {
        "colab": {
          "base_uri": "https://localhost:8080/",
          "height": 424
        },
        "id": "TWLlnw0LlidG",
        "outputId": "17af17fe-3cc5-4aae-f638-c4ac7e4ddff4"
      },
      "execution_count": null,
      "outputs": [
        {
          "output_type": "execute_result",
          "data": {
            "text/plain": [
              "      acquisition_date  acquisitions\n",
              "0           1970-01-01            13\n",
              "1           1970-01-02            14\n",
              "2           1970-01-03            11\n",
              "3           1970-01-04            18\n",
              "4           1970-01-05            17\n",
              "...                ...           ...\n",
              "18440       2020-06-27            12\n",
              "18441       2020-06-28            18\n",
              "18442       2020-06-29            18\n",
              "18443       2020-06-30            13\n",
              "18444       2020-07-01            13\n",
              "\n",
              "[18445 rows x 2 columns]"
            ],
            "text/html": [
              "\n",
              "  <div id=\"df-88b888e2-7813-4c01-b397-51af775f8dbc\">\n",
              "    <div class=\"colab-df-container\">\n",
              "      <div>\n",
              "<style scoped>\n",
              "    .dataframe tbody tr th:only-of-type {\n",
              "        vertical-align: middle;\n",
              "    }\n",
              "\n",
              "    .dataframe tbody tr th {\n",
              "        vertical-align: top;\n",
              "    }\n",
              "\n",
              "    .dataframe thead th {\n",
              "        text-align: right;\n",
              "    }\n",
              "</style>\n",
              "<table border=\"1\" class=\"dataframe\">\n",
              "  <thead>\n",
              "    <tr style=\"text-align: right;\">\n",
              "      <th></th>\n",
              "      <th>acquisition_date</th>\n",
              "      <th>acquisitions</th>\n",
              "    </tr>\n",
              "  </thead>\n",
              "  <tbody>\n",
              "    <tr>\n",
              "      <th>0</th>\n",
              "      <td>1970-01-01</td>\n",
              "      <td>13</td>\n",
              "    </tr>\n",
              "    <tr>\n",
              "      <th>1</th>\n",
              "      <td>1970-01-02</td>\n",
              "      <td>14</td>\n",
              "    </tr>\n",
              "    <tr>\n",
              "      <th>2</th>\n",
              "      <td>1970-01-03</td>\n",
              "      <td>11</td>\n",
              "    </tr>\n",
              "    <tr>\n",
              "      <th>3</th>\n",
              "      <td>1970-01-04</td>\n",
              "      <td>18</td>\n",
              "    </tr>\n",
              "    <tr>\n",
              "      <th>4</th>\n",
              "      <td>1970-01-05</td>\n",
              "      <td>17</td>\n",
              "    </tr>\n",
              "    <tr>\n",
              "      <th>...</th>\n",
              "      <td>...</td>\n",
              "      <td>...</td>\n",
              "    </tr>\n",
              "    <tr>\n",
              "      <th>18440</th>\n",
              "      <td>2020-06-27</td>\n",
              "      <td>12</td>\n",
              "    </tr>\n",
              "    <tr>\n",
              "      <th>18441</th>\n",
              "      <td>2020-06-28</td>\n",
              "      <td>18</td>\n",
              "    </tr>\n",
              "    <tr>\n",
              "      <th>18442</th>\n",
              "      <td>2020-06-29</td>\n",
              "      <td>18</td>\n",
              "    </tr>\n",
              "    <tr>\n",
              "      <th>18443</th>\n",
              "      <td>2020-06-30</td>\n",
              "      <td>13</td>\n",
              "    </tr>\n",
              "    <tr>\n",
              "      <th>18444</th>\n",
              "      <td>2020-07-01</td>\n",
              "      <td>13</td>\n",
              "    </tr>\n",
              "  </tbody>\n",
              "</table>\n",
              "<p>18445 rows × 2 columns</p>\n",
              "</div>\n",
              "      <button class=\"colab-df-convert\" onclick=\"convertToInteractive('df-88b888e2-7813-4c01-b397-51af775f8dbc')\"\n",
              "              title=\"Convert this dataframe to an interactive table.\"\n",
              "              style=\"display:none;\">\n",
              "        \n",
              "  <svg xmlns=\"http://www.w3.org/2000/svg\" height=\"24px\"viewBox=\"0 0 24 24\"\n",
              "       width=\"24px\">\n",
              "    <path d=\"M0 0h24v24H0V0z\" fill=\"none\"/>\n",
              "    <path d=\"M18.56 5.44l.94 2.06.94-2.06 2.06-.94-2.06-.94-.94-2.06-.94 2.06-2.06.94zm-11 1L8.5 8.5l.94-2.06 2.06-.94-2.06-.94L8.5 2.5l-.94 2.06-2.06.94zm10 10l.94 2.06.94-2.06 2.06-.94-2.06-.94-.94-2.06-.94 2.06-2.06.94z\"/><path d=\"M17.41 7.96l-1.37-1.37c-.4-.4-.92-.59-1.43-.59-.52 0-1.04.2-1.43.59L10.3 9.45l-7.72 7.72c-.78.78-.78 2.05 0 2.83L4 21.41c.39.39.9.59 1.41.59.51 0 1.02-.2 1.41-.59l7.78-7.78 2.81-2.81c.8-.78.8-2.07 0-2.86zM5.41 20L4 18.59l7.72-7.72 1.47 1.35L5.41 20z\"/>\n",
              "  </svg>\n",
              "      </button>\n",
              "      \n",
              "  <style>\n",
              "    .colab-df-container {\n",
              "      display:flex;\n",
              "      flex-wrap:wrap;\n",
              "      gap: 12px;\n",
              "    }\n",
              "\n",
              "    .colab-df-convert {\n",
              "      background-color: #E8F0FE;\n",
              "      border: none;\n",
              "      border-radius: 50%;\n",
              "      cursor: pointer;\n",
              "      display: none;\n",
              "      fill: #1967D2;\n",
              "      height: 32px;\n",
              "      padding: 0 0 0 0;\n",
              "      width: 32px;\n",
              "    }\n",
              "\n",
              "    .colab-df-convert:hover {\n",
              "      background-color: #E2EBFA;\n",
              "      box-shadow: 0px 1px 2px rgba(60, 64, 67, 0.3), 0px 1px 3px 1px rgba(60, 64, 67, 0.15);\n",
              "      fill: #174EA6;\n",
              "    }\n",
              "\n",
              "    [theme=dark] .colab-df-convert {\n",
              "      background-color: #3B4455;\n",
              "      fill: #D2E3FC;\n",
              "    }\n",
              "\n",
              "    [theme=dark] .colab-df-convert:hover {\n",
              "      background-color: #434B5C;\n",
              "      box-shadow: 0px 1px 3px 1px rgba(0, 0, 0, 0.15);\n",
              "      filter: drop-shadow(0px 1px 2px rgba(0, 0, 0, 0.3));\n",
              "      fill: #FFFFFF;\n",
              "    }\n",
              "  </style>\n",
              "\n",
              "      <script>\n",
              "        const buttonEl =\n",
              "          document.querySelector('#df-88b888e2-7813-4c01-b397-51af775f8dbc button.colab-df-convert');\n",
              "        buttonEl.style.display =\n",
              "          google.colab.kernel.accessAllowed ? 'block' : 'none';\n",
              "\n",
              "        async function convertToInteractive(key) {\n",
              "          const element = document.querySelector('#df-88b888e2-7813-4c01-b397-51af775f8dbc');\n",
              "          const dataTable =\n",
              "            await google.colab.kernel.invokeFunction('convertToInteractive',\n",
              "                                                     [key], {});\n",
              "          if (!dataTable) return;\n",
              "\n",
              "          const docLinkHtml = 'Like what you see? Visit the ' +\n",
              "            '<a target=\"_blank\" href=https://colab.research.google.com/notebooks/data_table.ipynb>data table notebook</a>'\n",
              "            + ' to learn more about interactive tables.';\n",
              "          element.innerHTML = '';\n",
              "          dataTable['output_type'] = 'display_data';\n",
              "          await google.colab.output.renderOutput(dataTable, element);\n",
              "          const docLink = document.createElement('div');\n",
              "          docLink.innerHTML = docLinkHtml;\n",
              "          element.appendChild(docLink);\n",
              "        }\n",
              "      </script>\n",
              "    </div>\n",
              "  </div>\n",
              "  "
            ]
          },
          "metadata": {},
          "execution_count": 35
        }
      ]
    },
    {
      "cell_type": "code",
      "source": [
        "#sanity check where we expect 13 records\n",
        "people_df[(people_df['create_dt'] >= '2020-07-01') & (people_df['create_dt'] < '2020-07-02')]"
      ],
      "metadata": {
        "colab": {
          "base_uri": "https://localhost:8080/",
          "height": 457
        },
        "id": "1Vb-ZTVUlu1L",
        "outputId": "588f7531-a6bc-4343-c713-14e0b1d6ff35"
      },
      "execution_count": null,
      "outputs": [
        {
          "output_type": "execute_result",
          "data": {
            "text/plain": [
              "                                    email    source  is_unsub  \\\n",
              "15835    kimberlyhopkins@harris-lewis.com   unknown         1   \n",
              "60819                 cynthia45@vance.com   organic         1   \n",
              "61712           jenniferstone@serrano.net  facebook         1   \n",
              "61713             morgandaniels@yahoo.com  facebook         1   \n",
              "113834    nortonsandra@hartman-miller.com    google         0   \n",
              "194772              rjohnson@williams.org   organic         1   \n",
              "198442             paulcantu@randolph.com   unknown         1   \n",
              "228368         jwoodward@mayer-martin.com    google         0   \n",
              "229425           vhatfield@mcpherson.info   unknown         0   \n",
              "234066              matthewwhite@king.com   organic         1   \n",
              "234067              rebeccaking@gmail.com   organic         1   \n",
              "305851  youngamanda@rosales-rodriguez.com   unknown         1   \n",
              "325379               ryanhowell@smith.org   unknown         1   \n",
              "\n",
              "                 create_dt          updated_dt  \n",
              "15835  2020-07-01 07:57:02 2001-06-23 20:56:52  \n",
              "60819  2020-07-01 01:48:37 1995-08-18 12:17:02  \n",
              "61712  2020-07-01 16:43:24 1973-06-05 13:50:05  \n",
              "61713  2020-07-01 16:43:24 1973-06-05 13:50:05  \n",
              "113834 2020-07-01 10:01:00 1981-01-09 02:00:18  \n",
              "194772 2020-07-01 10:33:22 2011-11-14 05:35:19  \n",
              "198442 2020-07-01 01:29:37 1978-12-09 10:21:29  \n",
              "228368 2020-07-01 01:09:40 1982-05-08 08:05:21  \n",
              "229425 2020-07-01 06:44:15 1996-07-16 01:00:38  \n",
              "234066 2020-07-01 13:52:48 1993-04-09 10:28:04  \n",
              "234067 2020-07-01 13:52:48 1993-04-09 10:28:04  \n",
              "305851 2020-07-01 00:04:14 2006-02-19 18:40:14  \n",
              "325379 2020-07-01 04:18:40 1982-08-10 22:37:23  "
            ],
            "text/html": [
              "\n",
              "  <div id=\"df-aa5783a3-6aff-4085-8ce2-63e37103d1dc\">\n",
              "    <div class=\"colab-df-container\">\n",
              "      <div>\n",
              "<style scoped>\n",
              "    .dataframe tbody tr th:only-of-type {\n",
              "        vertical-align: middle;\n",
              "    }\n",
              "\n",
              "    .dataframe tbody tr th {\n",
              "        vertical-align: top;\n",
              "    }\n",
              "\n",
              "    .dataframe thead th {\n",
              "        text-align: right;\n",
              "    }\n",
              "</style>\n",
              "<table border=\"1\" class=\"dataframe\">\n",
              "  <thead>\n",
              "    <tr style=\"text-align: right;\">\n",
              "      <th></th>\n",
              "      <th>email</th>\n",
              "      <th>source</th>\n",
              "      <th>is_unsub</th>\n",
              "      <th>create_dt</th>\n",
              "      <th>updated_dt</th>\n",
              "    </tr>\n",
              "  </thead>\n",
              "  <tbody>\n",
              "    <tr>\n",
              "      <th>15835</th>\n",
              "      <td>kimberlyhopkins@harris-lewis.com</td>\n",
              "      <td>unknown</td>\n",
              "      <td>1</td>\n",
              "      <td>2020-07-01 07:57:02</td>\n",
              "      <td>2001-06-23 20:56:52</td>\n",
              "    </tr>\n",
              "    <tr>\n",
              "      <th>60819</th>\n",
              "      <td>cynthia45@vance.com</td>\n",
              "      <td>organic</td>\n",
              "      <td>1</td>\n",
              "      <td>2020-07-01 01:48:37</td>\n",
              "      <td>1995-08-18 12:17:02</td>\n",
              "    </tr>\n",
              "    <tr>\n",
              "      <th>61712</th>\n",
              "      <td>jenniferstone@serrano.net</td>\n",
              "      <td>facebook</td>\n",
              "      <td>1</td>\n",
              "      <td>2020-07-01 16:43:24</td>\n",
              "      <td>1973-06-05 13:50:05</td>\n",
              "    </tr>\n",
              "    <tr>\n",
              "      <th>61713</th>\n",
              "      <td>morgandaniels@yahoo.com</td>\n",
              "      <td>facebook</td>\n",
              "      <td>1</td>\n",
              "      <td>2020-07-01 16:43:24</td>\n",
              "      <td>1973-06-05 13:50:05</td>\n",
              "    </tr>\n",
              "    <tr>\n",
              "      <th>113834</th>\n",
              "      <td>nortonsandra@hartman-miller.com</td>\n",
              "      <td>google</td>\n",
              "      <td>0</td>\n",
              "      <td>2020-07-01 10:01:00</td>\n",
              "      <td>1981-01-09 02:00:18</td>\n",
              "    </tr>\n",
              "    <tr>\n",
              "      <th>194772</th>\n",
              "      <td>rjohnson@williams.org</td>\n",
              "      <td>organic</td>\n",
              "      <td>1</td>\n",
              "      <td>2020-07-01 10:33:22</td>\n",
              "      <td>2011-11-14 05:35:19</td>\n",
              "    </tr>\n",
              "    <tr>\n",
              "      <th>198442</th>\n",
              "      <td>paulcantu@randolph.com</td>\n",
              "      <td>unknown</td>\n",
              "      <td>1</td>\n",
              "      <td>2020-07-01 01:29:37</td>\n",
              "      <td>1978-12-09 10:21:29</td>\n",
              "    </tr>\n",
              "    <tr>\n",
              "      <th>228368</th>\n",
              "      <td>jwoodward@mayer-martin.com</td>\n",
              "      <td>google</td>\n",
              "      <td>0</td>\n",
              "      <td>2020-07-01 01:09:40</td>\n",
              "      <td>1982-05-08 08:05:21</td>\n",
              "    </tr>\n",
              "    <tr>\n",
              "      <th>229425</th>\n",
              "      <td>vhatfield@mcpherson.info</td>\n",
              "      <td>unknown</td>\n",
              "      <td>0</td>\n",
              "      <td>2020-07-01 06:44:15</td>\n",
              "      <td>1996-07-16 01:00:38</td>\n",
              "    </tr>\n",
              "    <tr>\n",
              "      <th>234066</th>\n",
              "      <td>matthewwhite@king.com</td>\n",
              "      <td>organic</td>\n",
              "      <td>1</td>\n",
              "      <td>2020-07-01 13:52:48</td>\n",
              "      <td>1993-04-09 10:28:04</td>\n",
              "    </tr>\n",
              "    <tr>\n",
              "      <th>234067</th>\n",
              "      <td>rebeccaking@gmail.com</td>\n",
              "      <td>organic</td>\n",
              "      <td>1</td>\n",
              "      <td>2020-07-01 13:52:48</td>\n",
              "      <td>1993-04-09 10:28:04</td>\n",
              "    </tr>\n",
              "    <tr>\n",
              "      <th>305851</th>\n",
              "      <td>youngamanda@rosales-rodriguez.com</td>\n",
              "      <td>unknown</td>\n",
              "      <td>1</td>\n",
              "      <td>2020-07-01 00:04:14</td>\n",
              "      <td>2006-02-19 18:40:14</td>\n",
              "    </tr>\n",
              "    <tr>\n",
              "      <th>325379</th>\n",
              "      <td>ryanhowell@smith.org</td>\n",
              "      <td>unknown</td>\n",
              "      <td>1</td>\n",
              "      <td>2020-07-01 04:18:40</td>\n",
              "      <td>1982-08-10 22:37:23</td>\n",
              "    </tr>\n",
              "  </tbody>\n",
              "</table>\n",
              "</div>\n",
              "      <button class=\"colab-df-convert\" onclick=\"convertToInteractive('df-aa5783a3-6aff-4085-8ce2-63e37103d1dc')\"\n",
              "              title=\"Convert this dataframe to an interactive table.\"\n",
              "              style=\"display:none;\">\n",
              "        \n",
              "  <svg xmlns=\"http://www.w3.org/2000/svg\" height=\"24px\"viewBox=\"0 0 24 24\"\n",
              "       width=\"24px\">\n",
              "    <path d=\"M0 0h24v24H0V0z\" fill=\"none\"/>\n",
              "    <path d=\"M18.56 5.44l.94 2.06.94-2.06 2.06-.94-2.06-.94-.94-2.06-.94 2.06-2.06.94zm-11 1L8.5 8.5l.94-2.06 2.06-.94-2.06-.94L8.5 2.5l-.94 2.06-2.06.94zm10 10l.94 2.06.94-2.06 2.06-.94-2.06-.94-.94-2.06-.94 2.06-2.06.94z\"/><path d=\"M17.41 7.96l-1.37-1.37c-.4-.4-.92-.59-1.43-.59-.52 0-1.04.2-1.43.59L10.3 9.45l-7.72 7.72c-.78.78-.78 2.05 0 2.83L4 21.41c.39.39.9.59 1.41.59.51 0 1.02-.2 1.41-.59l7.78-7.78 2.81-2.81c.8-.78.8-2.07 0-2.86zM5.41 20L4 18.59l7.72-7.72 1.47 1.35L5.41 20z\"/>\n",
              "  </svg>\n",
              "      </button>\n",
              "      \n",
              "  <style>\n",
              "    .colab-df-container {\n",
              "      display:flex;\n",
              "      flex-wrap:wrap;\n",
              "      gap: 12px;\n",
              "    }\n",
              "\n",
              "    .colab-df-convert {\n",
              "      background-color: #E8F0FE;\n",
              "      border: none;\n",
              "      border-radius: 50%;\n",
              "      cursor: pointer;\n",
              "      display: none;\n",
              "      fill: #1967D2;\n",
              "      height: 32px;\n",
              "      padding: 0 0 0 0;\n",
              "      width: 32px;\n",
              "    }\n",
              "\n",
              "    .colab-df-convert:hover {\n",
              "      background-color: #E2EBFA;\n",
              "      box-shadow: 0px 1px 2px rgba(60, 64, 67, 0.3), 0px 1px 3px 1px rgba(60, 64, 67, 0.15);\n",
              "      fill: #174EA6;\n",
              "    }\n",
              "\n",
              "    [theme=dark] .colab-df-convert {\n",
              "      background-color: #3B4455;\n",
              "      fill: #D2E3FC;\n",
              "    }\n",
              "\n",
              "    [theme=dark] .colab-df-convert:hover {\n",
              "      background-color: #434B5C;\n",
              "      box-shadow: 0px 1px 3px 1px rgba(0, 0, 0, 0.15);\n",
              "      filter: drop-shadow(0px 1px 2px rgba(0, 0, 0, 0.3));\n",
              "      fill: #FFFFFF;\n",
              "    }\n",
              "  </style>\n",
              "\n",
              "      <script>\n",
              "        const buttonEl =\n",
              "          document.querySelector('#df-aa5783a3-6aff-4085-8ce2-63e37103d1dc button.colab-df-convert');\n",
              "        buttonEl.style.display =\n",
              "          google.colab.kernel.accessAllowed ? 'block' : 'none';\n",
              "\n",
              "        async function convertToInteractive(key) {\n",
              "          const element = document.querySelector('#df-aa5783a3-6aff-4085-8ce2-63e37103d1dc');\n",
              "          const dataTable =\n",
              "            await google.colab.kernel.invokeFunction('convertToInteractive',\n",
              "                                                     [key], {});\n",
              "          if (!dataTable) return;\n",
              "\n",
              "          const docLinkHtml = 'Like what you see? Visit the ' +\n",
              "            '<a target=\"_blank\" href=https://colab.research.google.com/notebooks/data_table.ipynb>data table notebook</a>'\n",
              "            + ' to learn more about interactive tables.';\n",
              "          element.innerHTML = '';\n",
              "          dataTable['output_type'] = 'display_data';\n",
              "          await google.colab.output.renderOutput(dataTable, element);\n",
              "          const docLink = document.createElement('div');\n",
              "          docLink.innerHTML = docLinkHtml;\n",
              "          element.appendChild(docLink);\n",
              "        }\n",
              "      </script>\n",
              "    </div>\n",
              "  </div>\n",
              "  "
            ]
          },
          "metadata": {},
          "execution_count": 37
        }
      ]
    },
    {
      "cell_type": "code",
      "source": [
        "#save to csv\n",
        "acquisition_df.to_csv('acquisitions.csv',index=False)"
      ],
      "metadata": {
        "id": "QEIW3fGKly2_"
      },
      "execution_count": null,
      "outputs": []
    },
    {
      "cell_type": "code",
      "source": [],
      "metadata": {
        "id": "1gp8rEmXmACA"
      },
      "execution_count": null,
      "outputs": []
    }
  ]
}